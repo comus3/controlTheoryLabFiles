{
 "cells": [
  {
   "cell_type": "markdown",
   "id": "1fdde86f-5d14-4691-886e-078d4a15a5c1",
   "metadata": {},
   "source": [
    "# Import"
   ]
  },
  {
   "cell_type": "code",
   "execution_count": 2,
   "id": "2d37c1b3-1d21-4e48-82c5-e0d27f491c45",
   "metadata": {},
   "outputs": [
    {
     "ename": "NameError",
     "evalue": "name 'PID' is not defined",
     "output_type": "error",
     "traceback": [
      "\u001b[1;31m---------------------------------------------------------------------------\u001b[0m",
      "\u001b[1;31mNameError\u001b[0m                                 Traceback (most recent call last)",
      "Cell \u001b[1;32mIn[2], line 9\u001b[0m\n\u001b[0;32m      6\u001b[0m \u001b[38;5;28;01mimport\u001b[39;00m \u001b[38;5;21;01mos\u001b[39;00m\n\u001b[0;32m      8\u001b[0m \u001b[38;5;28;01mimport\u001b[39;00m \u001b[38;5;21;01mpackage_DBR\u001b[39;00m\n\u001b[1;32m----> 9\u001b[0m \u001b[38;5;28;01mimport\u001b[39;00m \u001b[38;5;21;01mPACKAGE_LAB\u001b[39;00m\n\u001b[0;32m     11\u001b[0m \u001b[38;5;28;01mfrom\u001b[39;00m \u001b[38;5;21;01mimportlib\u001b[39;00m \u001b[38;5;28;01mimport\u001b[39;00m reload\n\u001b[0;32m     12\u001b[0m package_DBR \u001b[38;5;241m=\u001b[39m reload(package_DBR)\n",
      "File \u001b[1;32m~\\Desktop\\ECAM\\Bloc 3\\Q2\\control théorie\\2. Laboratoire\\Laboratory\\controlTheoryLabFiles\\Control_theory_software_V3\\PACKAGE_LAB.py:9\u001b[0m\n\u001b[0;32m      5\u001b[0m \u001b[38;5;28;01mfrom\u001b[39;00m \u001b[38;5;21;01mIPython\u001b[39;00m\u001b[38;5;21;01m.\u001b[39;00m\u001b[38;5;21;01mdisplay\u001b[39;00m \u001b[38;5;28;01mimport\u001b[39;00m display, clear_output\n\u001b[0;32m      7\u001b[0m \u001b[38;5;66;03m# -----------------------------------\u001b[39;00m\n\u001b[1;32m----> 9\u001b[0m \u001b[38;5;28;01mdef\u001b[39;00m \u001b[38;5;21mcalculate_stability_margins\u001b[39m(process_obj: Process, controller_obj: \u001b[43mPID\u001b[49m, omega_freq):\n\u001b[0;32m     10\u001b[0m \u001b[38;5;250m    \u001b[39m\u001b[38;5;124;03m\"\"\"\u001b[39;00m\n\u001b[0;32m     11\u001b[0m \u001b[38;5;124;03m    This function calculates stability margins for a given process and controller.\u001b[39;00m\n\u001b[0;32m     12\u001b[0m \n\u001b[1;32m   (...)\u001b[0m\n\u001b[0;32m     17\u001b[0m \u001b[38;5;124;03m    The function generates Bode plots of the loop gain and provides phase and gain margins.\u001b[39;00m\n\u001b[0;32m     18\u001b[0m \u001b[38;5;124;03m    \"\"\"\u001b[39;00m\n\u001b[0;32m     19\u001b[0m     s \u001b[38;5;241m=\u001b[39m \u001b[38;5;241m1\u001b[39mj \u001b[38;5;241m*\u001b[39m omega_freq  \u001b[38;5;66;03m# Complex variable used for calculations\u001b[39;00m\n",
      "\u001b[1;31mNameError\u001b[0m: name 'PID' is not defined"
     ]
    }
   ],
   "source": [
    "import numpy as np\n",
    "\n",
    "import matplotlib.pyplot as plt\n",
    "from scipy.optimize import minimize\n",
    "from matplotlib import colors as mcolors\n",
    "import os\n",
    "\n",
    "import package_DBR\n",
    "import PACKAGE_LAB\n",
    "\n",
    "from importlib import reload\n",
    "package_DBR = reload(package_DBR)\n",
    "PACKAGE_LAB = reload(PACKAGE_LAB)\n",
    "\n",
    "from package_DBR import *\n",
    "from PACKAGE_LAB import *"
   ]
  },
  {
   "cell_type": "markdown",
   "id": "c277493f-da73-45c6-822f-5dcb165df9eb",
   "metadata": {},
   "source": [
    "# Simulation Parameters"
   ]
  },
  {
   "cell_type": "code",
   "execution_count": null,
   "id": "ce08c019-1beb-4784-b329-f8bd12d4e8c7",
   "metadata": {},
   "outputs": [],
   "source": [
    "TSim = 2400               \n",
    "Ts = 1                      \n",
    "N = int(TSim/Ts) + 1\n",
    "# Working point\n",
    "MV0 = 50\n",
    "DV0 = 50\n",
    "PV0 = 52.5             \n",
    "# Parameters Step response MV\n",
    "Kp = 0.22940157900053862\n",
    "T1p = 235.05979493875853  \n",
    "T2p =  4.990264278507082\n",
    "thetap =  50.462409314789745\n",
    "\n",
    "# Parameters Step response DV\n",
    "Kd = 0.407\n",
    "T1d =  150.244  \n",
    "T2d =  2.7537\n",
    "thetad = 6\n",
    "\n",
    "# Process object\n",
    "P = Process({})\n",
    "P.parameters['kp'] = Kp\n",
    "P.parameters['Tlead1'] = 0\n",
    "P.parameters['Tlag1'] = T1p\n",
    "P.parameters['Tlag2'] = T2p\n",
    "P.parameters['theta'] = thetap\n",
    "P.parameters['nInt'] = 0\n",
    "\n",
    "# Parameters PID controller\n",
    "gamma = 0.6                                             \n",
    "Kc, Ti, Td = IMC_TUNING(Kp,T1p,T2p,thetap,gamma,'SOPDT')\n",
    "print(\"Kc : \", Kc )\n",
    "print(\"Ti : \", Ti )\n",
    "print(\"Td : \", Td )\n",
    "\n",
    "alpha = 1\n",
    "#La puissance de chauffe est limité entre 0 et 100 %\n",
    "MVMin = 0  \n",
    "MVMax = 100"
   ]
  },
  {
   "cell_type": "markdown",
   "id": "5ab654b3-6e3b-478e-9447-ea48aa962841",
   "metadata": {},
   "source": [
    "# 4 scénariosn de simulation"
   ]
  },
  {
   "cell_type": "code",
   "execution_count": null,
   "id": "698b208b-9468-4320-bbb0-dccff7987e6c",
   "metadata": {},
   "outputs": [],
   "source": [
    "scenario = \"CLP+FF\"\n",
    "\n",
    "# Scenario 1 : OLP + no FF  \n",
    "if scenario == \"OLP+noFF\":\n",
    "    ManPath = {0:True, TSim: True} \n",
    "    MVManPath = {0:MV0, TSim: MV0} \n",
    "    SPPath = {0:PV0, TSim: PV0}   \n",
    "    DVPath = {0: 50.0, 1100: 60, TSim: 60.0}\n",
    "    ActivateFF = False\n",
    "    ManFF = True\n",
    "\n",
    "    \n",
    "# Scenaro 2 : OLP + FF\n",
    "elif scenario == \"OLP+FF\":\n",
    "    ManPath = {0:True, TSim: True} \n",
    "    MVManPath = {0:MV0, TSim: MV0} \n",
    "    SPPath = {0:PV0, TSim: PV0}  \n",
    "    DVPath = {0: 50.0, 1000: 60, TSim: 60.0}\n",
    "    ActivateFF = True\n",
    "    ManFF = True\n",
    "\n",
    "# Scenaro 3 : CLP + no FF\n",
    "elif scenario == \"CLP+noFF\":\n",
    "    ManPath = {0:True, 500:False, TSim: False} \n",
    "    MVManPath = {0:MV0, TSim: MV0} \n",
    "    SPPath = {0: PV0+5, 1200: PV0-5, TSim: PV0-5} \n",
    "    DVPath = {0: DV0, 2000: DV0+10, TSim: DV0+10} \n",
    "    ActivateFF = False\n",
    "    ManFF = False\n",
    "\n",
    "# Scenaro 4 : CLP + FF\n",
    "elif scenario == \"CLP+FF\":\n",
    "    ManPath = {0:True, 500:False, TSim: False} \n",
    "    MVManPath = {0:MV0, TSim: MV0} \n",
    "    SPPath = {0: PV0+5, 1200: PV0-5, TSim: PV0-5} \n",
    "    DVPath = {0: DV0, 2000: DV0+10, TSim: DV0+10} \n",
    "    ActivateFF = True\n",
    "    ManFF = False"
   ]
  },
  {
   "cell_type": "markdown",
   "id": "4a3e151c-5b9b-470c-923e-9d0d42eae187",
   "metadata": {},
   "source": []
  },
  {
   "cell_type": "code",
   "execution_count": null,
   "id": "3e8b6c71-edba-4134-974e-531b58ff2264",
   "metadata": {},
   "outputs": [],
   "source": []
  }
 ],
 "metadata": {
  "kernelspec": {
   "display_name": "Python 3 (ipykernel)",
   "language": "python",
   "name": "python3"
  },
  "language_info": {
   "codemirror_mode": {
    "name": "ipython",
    "version": 3
   },
   "file_extension": ".py",
   "mimetype": "text/x-python",
   "name": "python",
   "nbconvert_exporter": "python",
   "pygments_lexer": "ipython3",
   "version": "3.11.7"
  }
 },
 "nbformat": 4,
 "nbformat_minor": 5
}
