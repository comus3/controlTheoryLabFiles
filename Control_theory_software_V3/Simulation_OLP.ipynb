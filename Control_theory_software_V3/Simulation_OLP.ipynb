{
 "cells": [
  {
   "cell_type": "markdown",
   "id": "5e919cb3",
   "metadata": {},
   "source": [
    "#Simulation_OLP"
   ]
  },
  {
   "cell_type": "code",
   "execution_count": 12,
   "id": "00442e99",
   "metadata": {},
   "outputs": [],
   "source": [
    "import pandas as pd\n",
    "import numpy as np\n",
    "import matplotlib.pyplot as plt\n",
    "from scipy.optimize import minimize\n",
    "from matplotlib import colors as mcolors\n",
    "\n",
    "import math\n",
    "\n",
    "\n",
    "import Simulation_OLP\n",
    "from Simulation_OLP import *\n",
    "from package_DBR import myRound, SelectPath_RT, Delay_RT, FO_RT, FOPDT, SOPDT, FOPDT_cost, SOPDT_cost, Process, Bode\n",
    "\n",
    "#from importlib import reload\n",
    "#package_DBR = reload (package_DBR)"
   ]
  },
  {
   "cell_type": "code",
   "execution_count": 13,
   "id": "7e1ef38a",
   "metadata": {},
   "outputs": [
    {
     "name": "stdout",
     "output_type": "stream",
     "text": [
      "MV\n"
     ]
    }
   ],
   "source": [
    "nameFile = 'Data/Cleaned_data_Open_loop_experiment_on_MV_2024-03-18-09h21.txt'\n",
    "\n",
    "titleName = nameFile.split('.')[0]    \n",
    "data = pd.read_csv(nameFile)\n",
    "\n",
    "if 'MV' in nameFile:\n",
    "    ExpVariable = 'MV'\n",
    "    tm = data['tm'].values\n",
    "    MVm = data['MVm'].values\n",
    "    PVm = data['PVm'].values    \n",
    "else:    \n",
    "    ExpVariable = 'DV'\n",
    "    tm = data['tm'].values\n",
    "    DVm = data['DVm'].values \n",
    "    PVm = data['PVm'].values\n",
    "     \n",
    "print(ExpVariable)  "
   ]
  },
  {
   "cell_type": "code",
   "execution_count": 14,
   "id": "8b1e8d26",
   "metadata": {},
   "outputs": [
    {
     "name": "stdout",
     "output_type": "stream",
     "text": [
      "Help on function initialize_constants in module Simulation_OLP:\n",
      "\n",
      "initialize_constants()\n",
      "    Initializes and returns the constants Tu, Tg, Kp, a, t1, t2 used in the control theory laboratory.\n",
      "    Usage : Tu, Tg, Kp, a, t1, t2 = initialize_constants()\n",
      "    \n",
      "    Returns:\n",
      "    Tu (float): Ultimate period.\n",
      "    Tg (float): Ultimate gain.\n",
      "    Kp (float): Process gain.\n",
      "    a (float): Constant a.\n",
      "    t1 (float): Constant t1.\n",
      "    t2 (float): Constant t2.\n",
      "    \n",
      "    which are obtained from the open loop process transfer function grphcally.\n",
      "\n"
     ]
    }
   ],
   "source": [
    "help(initialize_constants)"
   ]
  },
  {
   "cell_type": "code",
   "execution_count": 15,
   "id": "5ab1d792",
   "metadata": {},
   "outputs": [
    {
     "name": "stdout",
     "output_type": "stream",
     "text": [
      "Tu = 14.0 Tg = 154.0 Kp = 39.1 a = 13.0 t1 = 58.0 t2 = 85.0\n"
     ]
    }
   ],
   "source": [
    "Tu, Tg, Kp, a, t1, t2 = initialize_constants()\n",
    "print('Tu =', Tu, 'Tg =', Tg, 'Kp =', Kp, 'a =', a, 't1 =', t1, 't2 =', t2)"
   ]
  },
  {
   "cell_type": "code",
   "execution_count": 16,
   "id": "b4b44ee9",
   "metadata": {},
   "outputs": [],
   "source": [
    "TSim = 720  # Simulation Time [s]\n",
    "Ts = 1.0    # Sampling Period [s]\n",
    "N = int(TSim / Ts) + 1\n",
    "\n",
    "t = np.linspace(0, TSim, N)\n",
    "\n",
    "MV = []\n",
    "MVPath = {0: 0, 1: 1, TSim: 1}\n",
    "\n",
    "SelectPath_RT(MVPath, t, MV)\n"
   ]
  },
  {
   "cell_type": "code",
   "execution_count": 17,
   "id": "981297db",
   "metadata": {},
   "outputs": [
    {
     "name": "stdout",
     "output_type": "stream",
     "text": [
      "Help on function Broida1 in module Simulation_OLP:\n",
      "\n",
      "Broida1()\n",
      "    create step response of the system defined by the transfer function Pb(s) = (Kp*e^(-theta*s))/(Ts+1)\n",
      "    with T=Tg and theta = Tu.\n",
      "    \n",
      "    Parameters:\n",
      "\n"
     ]
    }
   ],
   "source": [
    "help(Broida1)"
   ]
  },
  {
   "cell_type": "code",
   "execution_count": null,
   "id": "c4798a95",
   "metadata": {},
   "outputs": [],
   "source": [
    "T_B1 = Tg\n",
    "theta_B1 = Tu"
   ]
  },
  {
   "cell_type": "code",
   "execution_count": 18,
   "id": "c72c1f78",
   "metadata": {},
   "outputs": [],
   "source": [
    "T_B2 = 5.5*(t2 - t1) \n",
    "theta_B2 = (2.8*t1) - (1.8*t2)"
   ]
  },
  {
   "cell_type": "code",
   "execution_count": 19,
   "id": "d6697f9f",
   "metadata": {},
   "outputs": [],
   "source": [
    "n = 1\n",
    "a_n = 0\n",
    "b_n = 1\n",
    "\n",
    "T_T = Tg / b_n\n",
    "T_u_th_T = a_n * Tg\n",
    "theta_T = Tu - T_u_th_T\n",
    "\n",
    "base_T = Ts + 1"
   ]
  },
  {
   "cell_type": "code",
   "execution_count": 20,
   "id": "659eaac1",
   "metadata": {},
   "outputs": [],
   "source": [
    "e = 2.71828\n",
    "T1_VDG = Tg * (3*a*e - 1) / (1 + a*e)\n",
    "T2_VDG = Tg * (1 - a*e) / (1 + a*e)\n",
    "theta_VDG = Tu - (T1_VDG * T2_VDG) / (T1_VDG + 3*T2_VDG)"
   ]
  },
  {
   "cell_type": "code",
   "execution_count": 21,
   "id": "1c375611",
   "metadata": {},
   "outputs": [
    {
     "name": "stdout",
     "output_type": "stream",
     "text": [
      "MV\n"
     ]
    }
   ],
   "source": [
    "nameFile = 'Data/Cleaned_data_Open_loop_experiment_on_MV_2024-03-18-09h21.txt'\n",
    "\n",
    "titleName = nameFile.split('.')[0]    \n",
    "data = pd.read_csv(nameFile)\n",
    "\n",
    "if 'MV' in nameFile:\n",
    "    ExpVariable = 'MV'\n",
    "    tm = data['tm'].values\n",
    "    MVm = data['MVm'].values\n",
    "    PVm = data['PVm'].values    \n",
    "else:    \n",
    "    ExpVariable = 'DV'\n",
    "    tm = data['tm'].values\n",
    "    DVm = data['DVm'].values \n",
    "    PVm = data['PVm'].values\n",
    "     \n",
    "print(ExpVariable)  "
   ]
  },
  {
   "cell_type": "code",
   "execution_count": 22,
   "id": "1b991bc4",
   "metadata": {},
   "outputs": [
    {
     "ename": "NameError",
     "evalue": "name 'T_B1' is not defined",
     "output_type": "error",
     "traceback": [
      "\u001b[0;31m---------------------------------------------------------------------------\u001b[0m",
      "\u001b[0;31mNameError\u001b[0m                                 Traceback (most recent call last)",
      "Cell \u001b[0;32mIn[22], line 1\u001b[0m\n\u001b[0;32m----> 1\u001b[0m FOPDT_P_B1 \u001b[38;5;241m=\u001b[39m FOPDT(MVm, Kp, T_B1, theta_B1, Ts)\n\u001b[1;32m      2\u001b[0m FOPDT_P_B2 \u001b[38;5;241m=\u001b[39m FOPDT(MVm, Kp, T_B2, theta_B2, Ts)\n\u001b[1;32m      3\u001b[0m FOPDT_P_T \u001b[38;5;241m=\u001b[39m FOPDT(MVm, Kp, T_T, theta_T, Ts)\n",
      "\u001b[0;31mNameError\u001b[0m: name 'T_B1' is not defined"
     ]
    }
   ],
   "source": [
    "FOPDT_P_B1 = FOPDT(MVm, Kp, T_B1, theta_B1, Ts)\n",
    "FOPDT_P_B2 = FOPDT(MVm, Kp, T_B2, theta_B2, Ts)\n",
    "FOPDT_P_T = FOPDT(MVm, Kp, T_T, theta_T, Ts)\n",
    "\n",
    "plt.figure(figsize = (15,9))\n",
    "\n",
    "plt.subplot(2,1,2)\n",
    "plt.step(tm,PVm,'green',label='Real',where='post')\n",
    "plt.step(tm,FOPDT_P_B1,'purple',label='FOPDT Broida 1',where='post')\n",
    "plt.step(tm,FOPDT_P_B2,'red',label='FOPDT Broida 2',where='post')\n",
    "plt.step(tm,FOPDT_P_T,'blue',label='FOPDT Strejc',where='post')\n",
    "plt.ylabel('Value of PV')\n",
    "plt.xlabel('Time [s]')\n",
    "plt.legend(loc='best')\n",
    "plt.xlim([0, TSim])  "
   ]
  },
  {
   "cell_type": "code",
   "execution_count": null,
   "id": "b136999d",
   "metadata": {},
   "outputs": [
    {
     "name": "stdout",
     "output_type": "stream",
     "text": [
      "MV\n"
     ]
    }
   ],
   "source": [
    "nameFile = '/home/comus3/Documents/Git/controlTheoryLabFiles/Control_theory_software_V3/Data/Cleaned_data_Open_loop_experiment_on_MV_2024-03-18-09h21.txt'\n",
    "\n",
    "titleName = nameFile.split('.')[0]    \n",
    "data = pd.read_csv(nameFile)\n",
    "\n",
    "if 'MV' in nameFile:\n",
    "    ExpVariable = 'MV'\n",
    "    tm = data['tm'].values\n",
    "    MVm = data['MVm'].values\n",
    "    PVm = data['PVm'].values    \n",
    "else:    \n",
    "    ExpVariable = 'DV'\n",
    "    tm = data['tm'].values\n",
    "    DVm = data['DVm'].values \n",
    "    PVm = data['PVm'].values\n",
    "     \n",
    "print(ExpVariable)    "
   ]
  },
  {
   "cell_type": "code",
   "execution_count": null,
   "id": "96fa2761",
   "metadata": {},
   "outputs": [
    {
     "data": {
      "text/plain": [
       "(0.0, 600.0)"
      ]
     },
     "execution_count": 182,
     "metadata": {},
     "output_type": "execute_result"
    },
    {
     "data": {
      "image/png": "[encoded data removed]",
      "text/plain": [
       "<Figure size 1500x900 with 1 Axes>"
      ]
     },
     "metadata": {},
     "output_type": "display_data"
    }
   ],
   "source": [
    "plt.figure(figsize = (15,9))\n",
    "\n",
    "plt.subplot(2,1,2)\n",
    "plt.step(tm,PVm,'green',label='Real',where='post')\n",
    "plt.ylabel('Value of PV')\n",
    "plt.xlabel('Time [s]')\n",
    "plt.legend(loc='best')\n",
    "plt.xlim([0, 600])    "
   ]
  }
 ],
 "metadata": {
  "kernelspec": {
   "display_name": "Python 3 (ipykernel)",
   "language": "python",
   "name": "python3"
  },
  "language_info": {
   "codemirror_mode": {
    "name": "ipython",
    "version": 3
   },
   "file_extension": ".py",
   "mimetype": "text/x-python",
   "name": "python",
   "nbconvert_exporter": "python",
   "pygments_lexer": "ipython3",
   "version": "3.11.5"
  }
 },
 "nbformat": 4,
 "nbformat_minor": 5
}
