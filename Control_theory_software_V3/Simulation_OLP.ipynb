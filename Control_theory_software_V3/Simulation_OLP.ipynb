{
 "cells": [
  {
   "cell_type": "markdown",
   "id": "5e919cb3",
   "metadata": {},
   "source": [
    "#Simulation_OLP"
   ]
  },
  {
   "cell_type": "code",
   "execution_count": 15,
   "id": "00442e99",
   "metadata": {},
   "outputs": [],
   "source": [
    "import pandas as pd\n",
    "import numpy as np\n",
    "import matplotlib.pyplot as plt\n",
    "from scipy.optimize import minimize\n",
    "from matplotlib import colors as mcolors\n",
    "\n",
    "import Simulation_OLP\n",
    "from Simulation_OLP import *\n",
    "from package_DBR import myRound, SelectPath_RT, Delay_RT, FO_RT, FOPDT, SOPDT, FOPDT_cost, SOPDT_cost, Process, Bode\n",
    "\n",
    "#from importlib import reload\n",
    "#package_DBR = reload (package_DBR)"
   ]
  },
  {
   "cell_type": "code",
   "execution_count": 16,
   "id": "7e1ef38a",
   "metadata": {},
   "outputs": [],
   "source": [
    "nameFile = 'Cleaned_data_Open_loop_experiment_on_MV_2024-03-18-09h21.txt'\n",
    "\n",
    "titleName = nameFile.split('.')[0]    \n",
    "data = pd.read_csv('Data/' + nameFile)\n",
    "\n",
    "if 'MV' in nameFile:\n",
    "    ExpVariable = 'MV'\n",
    "    tm = data['tm'].values\n",
    "    MVm = data['MVm'].values\n",
    "    PVm = data['PVm'].values    \n",
    "else:    \n",
    "    ExpVariable = 'DV'\n",
    "    tm = data['tm'].values\n",
    "    DVm = data['DVm'].values \n",
    "    PVm = data['PVm'].values"
   ]
  },
  {
   "cell_type": "code",
   "execution_count": 17,
   "id": "8b1e8d26",
   "metadata": {},
   "outputs": [
    {
     "name": "stdout",
     "output_type": "stream",
     "text": [
      "Help on function initialize_constants in module Simulation_OLP:\n",
      "\n",
      "initialize_constants()\n",
      "    Initializes and returns the constants Tu, Tg, Kp, a, t1, t2 used in the control theory laboratory.\n",
      "    Usage : Tu, Tg, Kp, a, t1, t2 = initialize_constants()\n",
      "    \n",
      "    Returns:\n",
      "    Tu (float): Ultimate period.\n",
      "    Tg (float): Ultimate gain.\n",
      "    Kp (float): Process gain.\n",
      "    a (float): Constant a.\n",
      "    t1 (float): Constant t1.\n",
      "    t2 (float): Constant t2.\n",
      "    \n",
      "    which are obtained from the open loop process transfer function grphcally.\n",
      "\n"
     ]
    }
   ],
   "source": [
    "help(initialize_constants)"
   ]
  },
  {
   "cell_type": "code",
   "execution_count": 18,
   "id": "5ab1d792",
   "metadata": {},
   "outputs": [
    {
     "name": "stdout",
     "output_type": "stream",
     "text": [
      "Tu = 14.0 Tg = 154.0 Kp = 39.1 a = 13.0 t1 = 58.0 t2 = 85.0\n"
     ]
    }
   ],
   "source": [
    "Tu, Tg, Kp, a, t1, t2 = initialize_constants()\n",
    "print('Tu =', Tu, 'Tg =', Tg, 'Kp =', Kp, 'a =', a, 't1 =', t1, 't2 =', t2)"
   ]
  },
  {
   "cell_type": "code",
   "execution_count": 19,
   "id": "b4b44ee9",
   "metadata": {},
   "outputs": [],
   "source": [
    "TSim = 720  # Simulation Time [s]\n",
    "Ts = 1      # Sampling Period [s]\n",
    "N = int(TSim / Ts) + 1\n",
    "\n",
    "t = np.linspace(0, TSim, N)\n",
    "\n",
    "MV = []\n",
    "MVPath = {0: 0, 1: 1, TSim: 1}\n",
    "\n",
    "SelectPath_RT(MVPath, t, MV)\n"
   ]
  },
  {
   "cell_type": "code",
   "execution_count": 20,
   "id": "981297db",
   "metadata": {},
   "outputs": [
    {
     "name": "stdout",
     "output_type": "stream",
     "text": [
      "Help on function Broida1 in module Simulation_OLP:\n",
      "\n",
      "Broida1()\n",
      "    create step response of the system defined by the transfer function Pb(s) = (Kp*e^(-theta*s))/(Ts+1)\n",
      "    with T=Tg and theta = Tu.\n",
      "    \n",
      "    Parameters:\n",
      "\n"
     ]
    }
   ],
   "source": [
    "help(Broida1)"
   ]
  },
  {
   "cell_type": "code",
   "execution_count": 21,
   "id": "c72c1f78",
   "metadata": {},
   "outputs": [
    {
     "data": {
      "text/plain": [
       "1.6256386458474754e-05"
      ]
     },
     "execution_count": 21,
     "metadata": {},
     "output_type": "execute_result"
    }
   ],
   "source": [
    "Broida1()"
   ]
  },
  {
   "cell_type": "code",
   "execution_count": 22,
   "id": "d6697f9f",
   "metadata": {},
   "outputs": [
    {
     "data": {
      "text/plain": [
       "0.0016172554816321974"
      ]
     },
     "execution_count": 22,
     "metadata": {},
     "output_type": "execute_result"
    }
   ],
   "source": [
    "Broida2()"
   ]
  },
  {
   "cell_type": "code",
   "execution_count": 23,
   "id": "659eaac1",
   "metadata": {},
   "outputs": [
    {
     "ename": "NameError",
     "evalue": "name 'Strejc' is not defined",
     "output_type": "error",
     "traceback": [
      "\u001b[0;31m---------------------------------------------------------------------------\u001b[0m",
      "\u001b[0;31mNameError\u001b[0m                                 Traceback (most recent call last)",
      "Cell \u001b[0;32mIn[23], line 1\u001b[0m\n\u001b[0;32m----> 1\u001b[0m Strejc()\n",
      "\u001b[0;31mNameError\u001b[0m: name 'Strejc' is not defined"
     ]
    }
   ],
   "source": [
    "Strejc()"
   ]
  },
  {
   "cell_type": "code",
   "execution_count": null,
   "id": "4bea9c99",
   "metadata": {},
   "outputs": [],
   "source": [
    "VanDerGrinden()"
   ]
  },
  {
   "cell_type": "code",
   "execution_count": null,
   "id": "e12bc2f7",
   "metadata": {},
   "outputs": [],
   "source": [
    "plot_data(FOPDT,MVm,PVm,tm,TSim)"
   ]
  }
 ],
 "metadata": {
  "kernelspec": {
   "display_name": "Python 3 (ipykernel)",
   "language": "python",
   "name": "python3"
  },
  "language_info": {
   "codemirror_mode": {
    "name": "ipython",
    "version": 3
   },
   "file_extension": ".py",
   "mimetype": "text/x-python",
   "name": "python",
   "nbconvert_exporter": "python",
   "pygments_lexer": "ipython3",
   "version": "3.11.5"
  }
 },
 "nbformat": 4,
 "nbformat_minor": 5
}
